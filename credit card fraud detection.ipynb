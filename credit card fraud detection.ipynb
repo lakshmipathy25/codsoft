{
 "cells": [
  {
   "cell_type": "code",
   "execution_count": 15,
   "metadata": {},
   "outputs": [],
   "source": [
    "import pandas as pd\n",
    "import numpy as np\n",
    "from sklearn.model_selection import train_test_split\n",
    "from sklearn.preprocessing import LabelEncoder, StandardScaler\n",
    "from sklearn.ensemble import RandomForestClassifier\n",
    "from sklearn.metrics import classification_report, roc_auc_score\n"
   ]
  },
  {
   "cell_type": "code",
   "execution_count": 16,
   "metadata": {},
   "outputs": [],
   "source": [
    "train_data = pd.read_csv('E://m//ccredit card dataset//fraudTrain.csv')\n",
    "test_data = pd.read_csv('E://m//ccredit card dataset//fraudTest.csv')\n"
   ]
  },
  {
   "cell_type": "code",
   "execution_count": 18,
   "metadata": {},
   "outputs": [],
   "source": [
    "def preprocess_data(data):\n",
    "    data['trans_date_trans_time'] = pd.to_datetime(data['trans_date_trans_time'])\n",
    "    data['hour'] = data['trans_date_trans_time'].dt.hour\n",
    "    data['day_of_week'] = data['trans_date_trans_time'].dt.weekday\n"
   ]
  },
  {
   "cell_type": "code",
   "execution_count": 19,
   "metadata": {},
   "outputs": [],
   "source": [
    "\n",
    "label_encoder = LabelEncoder()\n",
    "for column in ['category', 'gender', 'merchant', 'state', 'job', 'city', 'zip']:\n",
    "    train_data[column] = label_encoder.fit_transform(train_data[column].astype(str))\n"
   ]
  },
  {
   "cell_type": "code",
   "execution_count": 20,
   "metadata": {},
   "outputs": [],
   "source": [
    "def encode_data(data):\n",
    "    label_encoder = LabelEncoder()\n",
    "    for column in ['category', 'gender', 'merchant', 'state', 'job', 'city', 'zip']:\n",
    "        data[column] = label_encoder.fit_transform(data[column].astype(str))\n",
    "    return data\n",
    "train_data = encode_data(train_data)\n"
   ]
  },
  {
   "cell_type": "code",
   "execution_count": 40,
   "metadata": {},
   "outputs": [],
   "source": [
    "def encode_data(data):\n",
    "    label_encoder = LabelEncoder()\n",
    "    for column in ['category', 'gender', 'merchant', 'state', 'job', 'city', 'zip']:\n",
    "        data[column] = label_encoder.fit_transform(data[column].astype(str))\n",
    "    return data\n",
    "test_data = encode_data(test_data)"
   ]
  },
  {
   "cell_type": "code",
   "execution_count": 21,
   "metadata": {},
   "outputs": [],
   "source": [
    "label_encoder = LabelEncoder()\n",
    "for column in ['category', 'gender', 'merchant', 'state', 'job', 'city', 'zip']:\n",
    "        train_data[column] = label_encoder.fit_transform(train_data[column].astype(str))"
   ]
  },
  {
   "cell_type": "code",
   "execution_count": 41,
   "metadata": {},
   "outputs": [],
   "source": [
    "label_encoder = LabelEncoder()\n",
    "for column in ['category', 'gender', 'merchant', 'state', 'job', 'city', 'zip']:\n",
    "        test_data[column] = label_encoder.fit_transform(test_data[column].astype(str))"
   ]
  },
  {
   "cell_type": "code",
   "execution_count": 22,
   "metadata": {},
   "outputs": [
    {
     "name": "stdout",
     "output_type": "stream",
     "text": [
      "Index(['Unnamed: 0', 'trans_date_trans_time', 'cc_num', 'merchant', 'category',\n",
      "       'amt', 'first', 'last', 'gender', 'street', 'city', 'state', 'zip',\n",
      "       'lat', 'long', 'city_pop', 'job', 'dob', 'trans_num', 'unix_time',\n",
      "       'merch_lat', 'merch_long', 'is_fraud'],\n",
      "      dtype='object')\n"
     ]
    }
   ],
   "source": [
    "print(train_data.columns)\n"
   ]
  },
  {
   "cell_type": "code",
   "execution_count": 42,
   "metadata": {},
   "outputs": [
    {
     "name": "stdout",
     "output_type": "stream",
     "text": [
      "Index(['Unnamed: 0', 'trans_date_trans_time', 'cc_num', 'merchant', 'category',\n",
      "       'amt', 'first', 'last', 'gender', 'street', 'city', 'state', 'zip',\n",
      "       'lat', 'long', 'city_pop', 'job', 'dob', 'trans_num', 'unix_time',\n",
      "       'merch_lat', 'merch_long', 'is_fraud'],\n",
      "      dtype='object')\n"
     ]
    }
   ],
   "source": [
    "print(test_data.columns)"
   ]
  },
  {
   "cell_type": "code",
   "execution_count": 43,
   "metadata": {},
   "outputs": [],
   "source": [
    "X_train = train_data.drop(columns=['is_fraud']) \n",
    "y_train = train_data['is_fraud'] \n"
   ]
  },
  {
   "cell_type": "code",
   "execution_count": 44,
   "metadata": {},
   "outputs": [],
   "source": [
    "X_test = test_data.drop(columns=['is_fraud'])\n",
    "y_test = test_data['is_fraud'] \n"
   ]
  },
  {
   "cell_type": "code",
   "execution_count": 45,
   "metadata": {},
   "outputs": [
    {
     "name": "stdout",
     "output_type": "stream",
     "text": [
      "Unnamed: 0                 int64\n",
      "trans_date_trans_time     object\n",
      "cc_num                     int64\n",
      "merchant                   int32\n",
      "category                   int32\n",
      "amt                      float64\n",
      "first                     object\n",
      "last                      object\n",
      "gender                     int32\n",
      "street                    object\n",
      "city                       int32\n",
      "state                      int32\n",
      "zip                        int32\n",
      "lat                      float64\n",
      "long                     float64\n",
      "city_pop                   int64\n",
      "job                        int32\n",
      "dob                       object\n",
      "trans_num                 object\n",
      "unix_time                  int64\n",
      "merch_lat                float64\n",
      "merch_long               float64\n",
      "dtype: object\n"
     ]
    }
   ],
   "source": [
    "print(X_train.dtypes)\n"
   ]
  },
  {
   "cell_type": "code",
   "execution_count": 46,
   "metadata": {},
   "outputs": [
    {
     "name": "stdout",
     "output_type": "stream",
     "text": [
      "Unnamed: 0                 int64\n",
      "trans_date_trans_time     object\n",
      "cc_num                     int64\n",
      "merchant                   int32\n",
      "category                   int32\n",
      "amt                      float64\n",
      "first                     object\n",
      "last                      object\n",
      "gender                     int32\n",
      "street                    object\n",
      "city                       int32\n",
      "state                      int32\n",
      "zip                        int32\n",
      "lat                      float64\n",
      "long                     float64\n",
      "city_pop                   int64\n",
      "job                        int32\n",
      "dob                       object\n",
      "trans_num                 object\n",
      "unix_time                  int64\n",
      "merch_lat                float64\n",
      "merch_long               float64\n",
      "dtype: object\n"
     ]
    }
   ],
   "source": [
    "print(X_test.dtypes)"
   ]
  },
  {
   "cell_type": "code",
   "execution_count": 47,
   "metadata": {},
   "outputs": [],
   "source": [
    "X_train.fillna(0, inplace=True)\n",
    "X_test.fillna(0, inplace=True)\n"
   ]
  },
  {
   "cell_type": "code",
   "execution_count": 48,
   "metadata": {},
   "outputs": [],
   "source": [
    "X_train = X_train.select_dtypes(include=[np.number])\n",
    "X_test = X_test.select_dtypes(include=[np.number])\n"
   ]
  },
  {
   "cell_type": "code",
   "execution_count": 49,
   "metadata": {},
   "outputs": [
    {
     "name": "stdout",
     "output_type": "stream",
     "text": [
      "(1296675, 16)\n",
      "(555719, 16)\n"
     ]
    }
   ],
   "source": [
    "print(X_train.shape)\n",
    "print(X_test.shape)\n"
   ]
  },
  {
   "cell_type": "code",
   "execution_count": 50,
   "metadata": {},
   "outputs": [
    {
     "name": "stdout",
     "output_type": "stream",
     "text": [
      "X_train shape: (1296675, 16)\n",
      "X_test shape: (555719, 16)\n"
     ]
    }
   ],
   "source": [
    "print(\"X_train shape:\", X_train.shape)\n",
    "print(\"X_test shape:\", X_test.shape)\n"
   ]
  },
  {
   "cell_type": "code",
   "execution_count": 51,
   "metadata": {},
   "outputs": [
    {
     "name": "stdout",
     "output_type": "stream",
     "text": [
      "False\n",
      "False\n",
      "False\n",
      "False\n"
     ]
    }
   ],
   "source": [
    "import numpy as np\n",
    "\n",
    "print(np.any(np.isnan(X_train)))\n",
    "print(np.any(np.isnan(X_test))) \n",
    "print(np.any(np.isinf(X_train)))\n",
    "print(np.any(np.isinf(X_test)))\n"
   ]
  },
  {
   "cell_type": "code",
   "execution_count": 52,
   "metadata": {},
   "outputs": [],
   "source": [
    "try:\n",
    "    X_test_scaled = scaler.transform(X_test)\n",
    "except ValueError as e:\n",
    "    print(f\"Error: {e}\")\n"
   ]
  },
  {
   "cell_type": "code",
   "execution_count": 53,
   "metadata": {},
   "outputs": [
    {
     "name": "stdout",
     "output_type": "stream",
     "text": [
      "Error with column Unnamed: 0: The feature names should match those that were passed during fit.\n",
      "Feature names seen at fit time, yet now missing:\n",
      "- amt\n",
      "- category\n",
      "- cc_num\n",
      "- city\n",
      "- city_pop\n",
      "- ...\n",
      "\n",
      "Error with column cc_num: The feature names should match those that were passed during fit.\n",
      "Feature names seen at fit time, yet now missing:\n",
      "- Unnamed: 0\n",
      "- amt\n",
      "- category\n",
      "- city\n",
      "- city_pop\n",
      "- ...\n",
      "\n",
      "Error with column merchant: The feature names should match those that were passed during fit.\n",
      "Feature names seen at fit time, yet now missing:\n",
      "- Unnamed: 0\n",
      "- amt\n",
      "- category\n",
      "- cc_num\n",
      "- city\n",
      "- ...\n",
      "\n",
      "Error with column category: The feature names should match those that were passed during fit.\n",
      "Feature names seen at fit time, yet now missing:\n",
      "- Unnamed: 0\n",
      "- amt\n",
      "- cc_num\n",
      "- city\n",
      "- city_pop\n",
      "- ...\n",
      "\n",
      "Error with column amt: The feature names should match those that were passed during fit.\n",
      "Feature names seen at fit time, yet now missing:\n",
      "- Unnamed: 0\n",
      "- category\n",
      "- cc_num\n",
      "- city\n",
      "- city_pop\n",
      "- ...\n",
      "\n",
      "Error with column gender: The feature names should match those that were passed during fit.\n",
      "Feature names seen at fit time, yet now missing:\n",
      "- Unnamed: 0\n",
      "- amt\n",
      "- category\n",
      "- cc_num\n",
      "- city\n",
      "- ...\n",
      "\n",
      "Error with column city: The feature names should match those that were passed during fit.\n",
      "Feature names seen at fit time, yet now missing:\n",
      "- Unnamed: 0\n",
      "- amt\n",
      "- category\n",
      "- cc_num\n",
      "- city_pop\n",
      "- ...\n",
      "\n",
      "Error with column state: The feature names should match those that were passed during fit.\n",
      "Feature names seen at fit time, yet now missing:\n",
      "- Unnamed: 0\n",
      "- amt\n",
      "- category\n",
      "- cc_num\n",
      "- city\n",
      "- ...\n",
      "\n",
      "Error with column zip: The feature names should match those that were passed during fit.\n",
      "Feature names seen at fit time, yet now missing:\n",
      "- Unnamed: 0\n",
      "- amt\n",
      "- category\n",
      "- cc_num\n",
      "- city\n",
      "- ...\n",
      "\n",
      "Error with column lat: The feature names should match those that were passed during fit.\n",
      "Feature names seen at fit time, yet now missing:\n",
      "- Unnamed: 0\n",
      "- amt\n",
      "- category\n",
      "- cc_num\n",
      "- city\n",
      "- ...\n",
      "\n",
      "Error with column long: The feature names should match those that were passed during fit.\n",
      "Feature names seen at fit time, yet now missing:\n",
      "- Unnamed: 0\n",
      "- amt\n",
      "- category\n",
      "- cc_num\n",
      "- city\n",
      "- ...\n",
      "\n",
      "Error with column city_pop: The feature names should match those that were passed during fit.\n",
      "Feature names seen at fit time, yet now missing:\n",
      "- Unnamed: 0\n",
      "- amt\n",
      "- category\n",
      "- cc_num\n",
      "- city\n",
      "- ...\n",
      "\n",
      "Error with column job: The feature names should match those that were passed during fit.\n",
      "Feature names seen at fit time, yet now missing:\n",
      "- Unnamed: 0\n",
      "- amt\n",
      "- category\n",
      "- cc_num\n",
      "- city\n",
      "- ...\n",
      "\n",
      "Error with column unix_time: The feature names should match those that were passed during fit.\n",
      "Feature names seen at fit time, yet now missing:\n",
      "- Unnamed: 0\n",
      "- amt\n",
      "- category\n",
      "- cc_num\n",
      "- city\n",
      "- ...\n",
      "\n",
      "Error with column merch_lat: The feature names should match those that were passed during fit.\n",
      "Feature names seen at fit time, yet now missing:\n",
      "- Unnamed: 0\n",
      "- amt\n",
      "- category\n",
      "- cc_num\n",
      "- city\n",
      "- ...\n",
      "\n",
      "Error with column merch_long: The feature names should match those that were passed during fit.\n",
      "Feature names seen at fit time, yet now missing:\n",
      "- Unnamed: 0\n",
      "- amt\n",
      "- category\n",
      "- cc_num\n",
      "- city\n",
      "- ...\n",
      "\n"
     ]
    }
   ],
   "source": [
    "for i, col in enumerate(X_test.columns):\n",
    "    try:\n",
    "        scaler.transform(X_test[[col]])\n",
    "    except ValueError as e:\n",
    "        print(f\"Error with column {col}: {e}\")\n"
   ]
  },
  {
   "cell_type": "code",
   "execution_count": 54,
   "metadata": {},
   "outputs": [],
   "source": [
    "from sklearn.preprocessing import OneHotEncoder\n",
    "\n",
    "encoder = OneHotEncoder(handle_unknown='ignore')\n",
    "X_train_encoded = encoder.fit_transform(X_train)\n",
    "X_test_encoded = encoder.transform(X_test)\n"
   ]
  },
  {
   "cell_type": "code",
   "execution_count": 55,
   "metadata": {},
   "outputs": [],
   "source": [
    "scaler = StandardScaler()\n",
    "X_train_scaled = scaler.fit_transform(X_train)\n",
    "X_test_scaled = scaler.transform(X_test)"
   ]
  },
  {
   "cell_type": "code",
   "execution_count": 56,
   "metadata": {},
   "outputs": [
    {
     "data": {
      "text/html": [
       "<style>#sk-container-id-1 {color: black;}#sk-container-id-1 pre{padding: 0;}#sk-container-id-1 div.sk-toggleable {background-color: white;}#sk-container-id-1 label.sk-toggleable__label {cursor: pointer;display: block;width: 100%;margin-bottom: 0;padding: 0.3em;box-sizing: border-box;text-align: center;}#sk-container-id-1 label.sk-toggleable__label-arrow:before {content: \"▸\";float: left;margin-right: 0.25em;color: #696969;}#sk-container-id-1 label.sk-toggleable__label-arrow:hover:before {color: black;}#sk-container-id-1 div.sk-estimator:hover label.sk-toggleable__label-arrow:before {color: black;}#sk-container-id-1 div.sk-toggleable__content {max-height: 0;max-width: 0;overflow: hidden;text-align: left;background-color: #f0f8ff;}#sk-container-id-1 div.sk-toggleable__content pre {margin: 0.2em;color: black;border-radius: 0.25em;background-color: #f0f8ff;}#sk-container-id-1 input.sk-toggleable__control:checked~div.sk-toggleable__content {max-height: 200px;max-width: 100%;overflow: auto;}#sk-container-id-1 input.sk-toggleable__control:checked~label.sk-toggleable__label-arrow:before {content: \"▾\";}#sk-container-id-1 div.sk-estimator input.sk-toggleable__control:checked~label.sk-toggleable__label {background-color: #d4ebff;}#sk-container-id-1 div.sk-label input.sk-toggleable__control:checked~label.sk-toggleable__label {background-color: #d4ebff;}#sk-container-id-1 input.sk-hidden--visually {border: 0;clip: rect(1px 1px 1px 1px);clip: rect(1px, 1px, 1px, 1px);height: 1px;margin: -1px;overflow: hidden;padding: 0;position: absolute;width: 1px;}#sk-container-id-1 div.sk-estimator {font-family: monospace;background-color: #f0f8ff;border: 1px dotted black;border-radius: 0.25em;box-sizing: border-box;margin-bottom: 0.5em;}#sk-container-id-1 div.sk-estimator:hover {background-color: #d4ebff;}#sk-container-id-1 div.sk-parallel-item::after {content: \"\";width: 100%;border-bottom: 1px solid gray;flex-grow: 1;}#sk-container-id-1 div.sk-label:hover label.sk-toggleable__label {background-color: #d4ebff;}#sk-container-id-1 div.sk-serial::before {content: \"\";position: absolute;border-left: 1px solid gray;box-sizing: border-box;top: 0;bottom: 0;left: 50%;z-index: 0;}#sk-container-id-1 div.sk-serial {display: flex;flex-direction: column;align-items: center;background-color: white;padding-right: 0.2em;padding-left: 0.2em;position: relative;}#sk-container-id-1 div.sk-item {position: relative;z-index: 1;}#sk-container-id-1 div.sk-parallel {display: flex;align-items: stretch;justify-content: center;background-color: white;position: relative;}#sk-container-id-1 div.sk-item::before, #sk-container-id-1 div.sk-parallel-item::before {content: \"\";position: absolute;border-left: 1px solid gray;box-sizing: border-box;top: 0;bottom: 0;left: 50%;z-index: -1;}#sk-container-id-1 div.sk-parallel-item {display: flex;flex-direction: column;z-index: 1;position: relative;background-color: white;}#sk-container-id-1 div.sk-parallel-item:first-child::after {align-self: flex-end;width: 50%;}#sk-container-id-1 div.sk-parallel-item:last-child::after {align-self: flex-start;width: 50%;}#sk-container-id-1 div.sk-parallel-item:only-child::after {width: 0;}#sk-container-id-1 div.sk-dashed-wrapped {border: 1px dashed gray;margin: 0 0.4em 0.5em 0.4em;box-sizing: border-box;padding-bottom: 0.4em;background-color: white;}#sk-container-id-1 div.sk-label label {font-family: monospace;font-weight: bold;display: inline-block;line-height: 1.2em;}#sk-container-id-1 div.sk-label-container {text-align: center;}#sk-container-id-1 div.sk-container {/* jupyter's `normalize.less` sets `[hidden] { display: none; }` but bootstrap.min.css set `[hidden] { display: none !important; }` so we also need the `!important` here to be able to override the default hidden behavior on the sphinx rendered scikit-learn.org. See: https://github.com/scikit-learn/scikit-learn/issues/21755 */display: inline-block !important;position: relative;}#sk-container-id-1 div.sk-text-repr-fallback {display: none;}</style><div id=\"sk-container-id-1\" class=\"sk-top-container\"><div class=\"sk-text-repr-fallback\"><pre>RandomForestClassifier(class_weight=&#x27;balanced&#x27;, random_state=42)</pre><b>In a Jupyter environment, please rerun this cell to show the HTML representation or trust the notebook. <br />On GitHub, the HTML representation is unable to render, please try loading this page with nbviewer.org.</b></div><div class=\"sk-container\" hidden><div class=\"sk-item\"><div class=\"sk-estimator sk-toggleable\"><input class=\"sk-toggleable__control sk-hidden--visually\" id=\"sk-estimator-id-1\" type=\"checkbox\" checked><label for=\"sk-estimator-id-1\" class=\"sk-toggleable__label sk-toggleable__label-arrow\">RandomForestClassifier</label><div class=\"sk-toggleable__content\"><pre>RandomForestClassifier(class_weight=&#x27;balanced&#x27;, random_state=42)</pre></div></div></div></div></div>"
      ],
      "text/plain": [
       "RandomForestClassifier(class_weight='balanced', random_state=42)"
      ]
     },
     "execution_count": 56,
     "metadata": {},
     "output_type": "execute_result"
    }
   ],
   "source": [
    "model = RandomForestClassifier(n_estimators=100, class_weight='balanced', random_state=42)\n",
    "model.fit(X_train_scaled, y_train)\n"
   ]
  },
  {
   "cell_type": "code",
   "execution_count": 57,
   "metadata": {},
   "outputs": [],
   "source": [
    "y_pred = model.predict(X_test_scaled)\n",
    "y_pred_proba = model.predict_proba(X_test_scaled)[:, 1]\n"
   ]
  },
  {
   "cell_type": "code",
   "execution_count": 58,
   "metadata": {},
   "outputs": [
    {
     "name": "stdout",
     "output_type": "stream",
     "text": [
      "Classification Report:\n",
      "              precision    recall  f1-score   support\n",
      "\n",
      "           0       1.00      1.00      1.00    553574\n",
      "           1       0.01      0.01      0.01      2145\n",
      "\n",
      "    accuracy                           0.99    555719\n",
      "   macro avg       0.50      0.50      0.50    555719\n",
      "weighted avg       0.99      0.99      0.99    555719\n",
      "\n"
     ]
    }
   ],
   "source": [
    "print(\"Classification Report:\")\n",
    "print(classification_report(y_test, y_pred))\n"
   ]
  },
  {
   "cell_type": "code",
   "execution_count": 60,
   "metadata": {},
   "outputs": [
    {
     "name": "stdout",
     "output_type": "stream",
     "text": [
      "AUC-ROC Score: 0.6063960431970852\n"
     ]
    }
   ],
   "source": [
    "print(\"AUC-ROC Score:\", roc_auc_score(y_test, y_pred_proba))\n"
   ]
  }
 ],
 "metadata": {
  "kernelspec": {
   "display_name": "Python 3",
   "language": "python",
   "name": "python3"
  },
  "language_info": {
   "codemirror_mode": {
    "name": "ipython",
    "version": 3
   },
   "file_extension": ".py",
   "mimetype": "text/x-python",
   "name": "python",
   "nbconvert_exporter": "python",
   "pygments_lexer": "ipython3",
   "version": "3.11.4"
  }
 },
 "nbformat": 4,
 "nbformat_minor": 2
}
